{
 "cells": [
  {
   "cell_type": "code",
   "execution_count": 17,
   "metadata": {},
   "outputs": [],
   "source": [
    "import pandas as pd\n",
    "import numpy as np"
   ]
  },
  {
   "cell_type": "code",
   "execution_count": 3,
   "metadata": {},
   "outputs": [
    {
     "data": {
      "text/plain": [
       "Timestamp('2019-11-30 00:00:00')"
      ]
     },
     "execution_count": 3,
     "metadata": {},
     "output_type": "execute_result"
    }
   ],
   "source": [
    "pd.Timestamp('11/29/2019') + pd.offsets.MonthEnd()"
   ]
  },
  {
   "cell_type": "code",
   "execution_count": 4,
   "metadata": {},
   "outputs": [
    {
     "data": {
      "text/plain": [
       "Period('2019-06', 'M')"
      ]
     },
     "execution_count": 4,
     "metadata": {},
     "output_type": "execute_result"
    }
   ],
   "source": [
    "import pandas as pd\n",
    "pd.Period('01/12/2019', 'M') + 5"
   ]
  },
  {
   "cell_type": "code",
   "execution_count": null,
   "metadata": {},
   "outputs": [],
   "source": [
    "def load_energy_dataframe():\n",
    "    cols = ['Country', 'Energy Supply', 'Energy Supply per Capita', '% Renewable']\n",
    "    rename = {\"Republic of Korea\": \"South Korea\", \"United States of America\": \"United States\", \"United Kingdom of Great Britain and Northern Ireland\": \"United Kingdom\", \"China, Hong Kong Special Administrative Region\": \"Hong Kong\"}\n",
    "    \n",
    "    Energy = pd.read_excel('assets/Energy Indicators.xls', names=['1','2']+cols)[cols]\n",
    "    Energy['Energy Supply'] = Energy['Energy Supply'] * 10**6\n",
    "\n",
    "    Energy['Country'] = Energy['Country'].fillna(np.NaN) # make sure this is reflected as np.NaN values.\n",
    "    Energy['Country'] = Energy['Country'].str.replace(r\"\\(.*\\)\",\"\").str.strip() # remove parenthesis\n",
    "    Energy['Country'] = Energy['Country'].str.replace(r'[0-9]','') # remove digits\n",
    "    Energy = Energy.replace({'Country': rename}) # Rename the list of countries\n",
    "    return Energy\n",
    "\n",
    "def load_GDP_dataframe():\n",
    "    rename = {\"Korea, Rep.\": \"South Korea\", \"Iran, Islamic Rep.\": \"Iran\", \"Hong Kong SAR, China\": \"Hong Kong\"}\n",
    "    GDP = pd.read_csv('assets/world_bank.csv', skiprows=4)\n",
    "    GDP = GDP.replace({'Country Name': rename})\n",
    "    return GDP\n",
    "\n",
    "def load_ScimEn_dataframe():\n",
    "    ScimEn = pd.read_excel('assets/scimagojr-3.xlsx', )\n",
    "    return ScimEn"
   ]
  },
  {
   "cell_type": "code",
   "execution_count": null,
   "metadata": {},
   "outputs": [],
   "source": [
    "def answer_one():\n",
    "    # YOUR CODE HERE\n",
    "    Energy = load_energy_dataframe()\n",
    "    GDP = load_GDP_dataframe()\n",
    "    ScimEn = load_ScimEn_dataframe()\n",
    "    ScimEn = ScimEn[ScimEn['Rank']<=15]\n",
    "    years = [str(x) for x in range(2006,2016)]\n",
    "    GDP = GDP[['Country Name']+years]\n",
    "    \n",
    "    first_merge = pd.merge(ScimEn, Energy, how='inner', on='Country')\n",
    "    data = pd.merge(first_merge, GDP, how='inner', left_on='Country', right_on='Country Name')\n",
    "    data = data.drop('Country Name', axis=1).set_index('Country')\n",
    "    \n",
    "    return data\n",
    "    raise NotImplementedError()"
   ]
  },
  {
   "cell_type": "code",
   "execution_count": null,
   "metadata": {},
   "outputs": [],
   "source": []
  },
  {
   "cell_type": "code",
   "execution_count": null,
   "metadata": {},
   "outputs": [],
   "source": [
    "    Energy = load_energy_dataframe()\n",
    "    GDP = load_GDP_dataframe()\n",
    "    ScimEn = load_ScimEn_dataframe()\n",
    "    years = [str(x) for x in range(2006,2016)]\n",
    "    GDP = GDP[['Country Name']+years]\n",
    "    \n",
    "    first_merge = pd.merge(ScimEn, Energy, how='outer', on='Country')\n",
    "    data = pd.merge(first_merge, GDP, how='outer', left_on='Country', right_on='Country Name')"
   ]
  },
  {
   "cell_type": "code",
   "execution_count": null,
   "metadata": {},
   "outputs": [],
   "source": [
    "data.tail()"
   ]
  },
  {
   "cell_type": "code",
   "execution_count": null,
   "metadata": {},
   "outputs": [],
   "source": []
  },
  {
   "cell_type": "code",
   "execution_count": null,
   "metadata": {},
   "outputs": [],
   "source": [
    "def answer_two():\n",
    "    # YOUR CODE HERE\n",
    "    Energy = load_energy_dataframe()\n",
    "    GDP = load_GDP_dataframe()\n",
    "    ScimEn = load_ScimEn_dataframe()\n",
    "    years = [str(x) for x in range(2006,2016)]\n",
    "    GDP = GDP[['Country Name']+years]\n",
    "    \n",
    "    first_merge = pd.merge(ScimEn, Energy, how='outer', on='Country')\n",
    "    data = pd.merge(first_merge, GDP, how='outer', left_on='Country', right_on='Country Name')\n",
    "    return len(data) - len(answer_one())\n",
    "    raise NotImplementedError()"
   ]
  },
  {
   "cell_type": "code",
   "execution_count": null,
   "metadata": {},
   "outputs": [],
   "source": []
  },
  {
   "cell_type": "code",
   "execution_count": null,
   "metadata": {},
   "outputs": [],
   "source": [
    "GDP = load_GDP_dataframe()\n",
    "years = [str(x) for x in range(2006,2016)]\n",
    "GDP = GDP[['Country Name']+years]\n",
    "\n",
    "GDP"
   ]
  },
  {
   "cell_type": "code",
   "execution_count": 1,
   "metadata": {},
   "outputs": [],
   "source": [
    "import numpy as np\n",
    "\n",
    "a = np.arange(8)\n",
    "b = a[4:6]\n",
    "b[:] = 40\n",
    "c = a[4] + a[6]"
   ]
  },
  {
   "cell_type": "code",
   "execution_count": 5,
   "metadata": {},
   "outputs": [
    {
     "data": {
      "text/plain": [
       "46"
      ]
     },
     "execution_count": 5,
     "metadata": {},
     "output_type": "execute_result"
    }
   ],
   "source": [
    "c"
   ]
  },
  {
   "cell_type": "code",
   "execution_count": 7,
   "metadata": {},
   "outputs": [
    {
     "data": {
      "text/plain": [
       "['', 'BC', 'C']"
      ]
     },
     "execution_count": 7,
     "metadata": {},
     "output_type": "execute_result"
    }
   ],
   "source": [
    "import re\n",
    "s = 'ABCAC'\n",
    "re.split('A', s)"
   ]
  },
  {
   "cell_type": "code",
   "execution_count": 13,
   "metadata": {},
   "outputs": [
    {
     "data": {
      "text/plain": [
       "True"
      ]
     },
     "execution_count": 13,
     "metadata": {},
     "output_type": "execute_result"
    }
   ],
   "source": [
    "bool(re.match('A', s))"
   ]
  },
  {
   "cell_type": "code",
   "execution_count": 12,
   "metadata": {},
   "outputs": [],
   "source": [
    "import re\n",
    "\n",
    "def result():\n",
    "    s = 'ACAABAACAAABACDBADDDFSDDDFFSSSASDAFAAACBAAAFASD'\n",
    "\n",
    "    result = []\n",
    "    # compete the pattern below\n",
    "    pattern = '.(?=(AAA))'\n",
    "    for item in re.finditer(pattern, s):\n",
    "      # identify the group number below.\n",
    "      result.append(item.group())\n",
    "      \n",
    "    return result"
   ]
  },
  {
   "cell_type": "code",
   "execution_count": 13,
   "metadata": {},
   "outputs": [
    {
     "data": {
      "text/plain": [
       "['C', 'F', 'B']"
      ]
     },
     "execution_count": 13,
     "metadata": {},
     "output_type": "execute_result"
    }
   ],
   "source": [
    "result()"
   ]
  },
  {
   "cell_type": "code",
   "execution_count": 18,
   "metadata": {},
   "outputs": [],
   "source": [
    "S = pd.Series(np.arange(5), index=['a', 'b', 'c', 'd', 'e'])"
   ]
  },
  {
   "cell_type": "code",
   "execution_count": 23,
   "metadata": {},
   "outputs": [
    {
     "data": {
      "text/plain": [
       "b    1\n",
       "c    2\n",
       "d    3\n",
       "dtype: int32"
      ]
     },
     "execution_count": 23,
     "metadata": {},
     "output_type": "execute_result"
    }
   ],
   "source": [
    "S[S <= 3][S > 0]"
   ]
  },
  {
   "cell_type": "code",
   "execution_count": null,
   "metadata": {},
   "outputs": [],
   "source": []
  }
 ],
 "metadata": {
  "kernelspec": {
   "display_name": "Python 3",
   "language": "python",
   "name": "python3"
  },
  "language_info": {
   "codemirror_mode": {
    "name": "ipython",
    "version": 3
   },
   "file_extension": ".py",
   "mimetype": "text/x-python",
   "name": "python",
   "nbconvert_exporter": "python",
   "pygments_lexer": "ipython3",
   "version": "3.8.3"
  },
  "toc": {
   "base_numbering": 1,
   "nav_menu": {},
   "number_sections": true,
   "sideBar": true,
   "skip_h1_title": false,
   "title_cell": "Table of Contents",
   "title_sidebar": "Contents",
   "toc_cell": false,
   "toc_position": {},
   "toc_section_display": true,
   "toc_window_display": false
  }
 },
 "nbformat": 4,
 "nbformat_minor": 4
}
